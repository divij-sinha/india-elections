{
 "cells": [
  {
   "cell_type": "code",
   "execution_count": 69,
   "metadata": {},
   "outputs": [
    {
     "name": "stdout",
     "output_type": "stream",
     "text": [
      "\n",
      "Processing Form20-S14_ac_no1_06-06-2024_1717662012.csv...\n",
      "Mode winner: ANGOMCHA BIMOL AKOIJAM\n",
      "Percentage of rows won by mode winner: 61.9\n",
      "\n",
      "Processing Form20-S14_ac_no21_06-06-2024_1717662276.csv...\n",
      "Mode winner: ANGOMCHA BIMOL AKOIJAM\n",
      "Percentage of rows won by mode winner: 91.5\n",
      "\n",
      "Processing Form20-S14_ac_no22_06-06-2024_1717662288.csv...\n",
      "Mode winner: ANGOMCHA BIMOL AKOIJAM\n",
      "Percentage of rows won by mode winner: 80.0\n",
      "\n",
      "Processing Form20-S14_ac_no23_06-06-2024_1717662298.csv...\n",
      "Mode winner: ANGOMCHA BIMOL AKOIJAM\n",
      "Percentage of rows won by mode winner: 80.5\n",
      "\n",
      "Processing Form20-S14_ac_no2_06-06-2024_1717661672.csv...\n",
      "Mode winner: THOUNAOJAM BASANTA KUMAR SINGH\n",
      "Percentage of rows won by mode winner: 95.6\n",
      "\n",
      "Processing Form20-S14_ac_no3_06-06-2024_1717662074.csv...\n",
      "Mode winner: ANGOMCHA BIMOL AKOIJAM\n",
      "Percentage of rows won by mode winner: 81.4\n",
      "\n",
      "Processing Form20-S14_ac_no41_06-06-2024_1717662419.csv...\n",
      "Mode winner: KACHUI TIMOTHY ZIMIK\n",
      "Percentage of rows won by mode winner: 61.3\n",
      "\n",
      "Processing Form20-S14_ac_no42_06-06-2024_1717662430.csv...\n",
      "Mode winner: KACHUI TIMOTHY ZIMIK\n",
      "Percentage of rows won by mode winner: 59.7\n"
     ]
    }
   ],
   "source": [
    "import pandas as pd\n",
    "import os\n",
    "\n",
    "state = \"manipur\"\n",
    "processed_csv_folder = os.path.join(\"../data/csv/processed/\", state) \n",
    "\n",
    "for csv in sorted(os.listdir(processed_csv_folder)):\n",
    "    df = pd.read_csv(os.path.join(processed_csv_folder, csv))\n",
    "    print(f\"\\nProcessing {csv}...\")\n",
    "\n",
    "    candidate_columns = df.columns[2:-5]\n",
    "    df[candidate_columns] = df[candidate_columns].astype(str).replace(r'\\s+', ' ', regex=True).replace(r'\\n', '', regex=True)\n",
    "    df[candidate_columns] = df[candidate_columns].replace(r'^(\\d+).*', r'\\1', regex=True)\n",
    "    df[candidate_columns] = df[candidate_columns].astype(\"float\")\n",
    "\n",
    "    winners = {}\n",
    "    for row in df[candidate_columns].iterrows():\n",
    "        winner = row[1].idxmax()\n",
    "\n",
    "        if winner not in winners:\n",
    "            winners[winner] = 1\n",
    "        else:\n",
    "            winners[winner] += 1\n",
    "\n",
    "    max_winner = max(winners, key=winners.get).replace('\\n',' ')\n",
    "    print(f\"Mode winner: {max_winner}\")\n",
    "\n",
    "    num_votes_mode = winners[max(winners, key=winners.get)]\n",
    "    print(f\"Percentage of rows won by mode winner: {round(num_votes_mode/len(df)*100,1)}\")        "
   ]
  }
 ],
 "metadata": {
  "kernelspec": {
   "display_name": "base",
   "language": "python",
   "name": "python3"
  },
  "language_info": {
   "codemirror_mode": {
    "name": "ipython",
    "version": 3
   },
   "file_extension": ".py",
   "mimetype": "text/x-python",
   "name": "python",
   "nbconvert_exporter": "python",
   "pygments_lexer": "ipython3",
   "version": "3.12.8"
  }
 },
 "nbformat": 4,
 "nbformat_minor": 2
}
